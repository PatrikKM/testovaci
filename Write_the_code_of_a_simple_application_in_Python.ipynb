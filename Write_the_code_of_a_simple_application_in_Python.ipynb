{
  "cells": [
    {
      "cell_type": "markdown",
      "metadata": {
        "id": "view-in-github",
        "colab_type": "text"
      },
      "source": [
        "<a href=\"https://colab.research.google.com/github/PatrikKM/testovaci/blob/main/Write_the_code_of_a_simple_application_in_Python.ipynb\" target=\"_parent\"><img src=\"https://colab.research.google.com/assets/colab-badge.svg\" alt=\"Open In Colab\"/></a>"
      ]
    },
    {
      "cell_type": "markdown",
      "source": [
        "Sure, here is a simple application in Python:"
      ],
      "metadata": {
        "id": "wEEGKQ6hg4ji"
      }
    },
    {
      "cell_type": "code",
      "source": [
        "def factorial(n):\n",
        "  if n == 0:\n",
        "    return 1\n",
        "  else:\n",
        "    return n * factorial(n - 1)\n",
        "\n",
        "def main():\n",
        "  print(factorial(5))\n",
        "\n",
        "if __name__ == \"__main__\":\n",
        "  main()"
      ],
      "outputs": [
        {
          "output_type": "stream",
          "name": "stdout",
          "text": [
            "120\n"
          ]
        }
      ],
      "execution_count": 2,
      "metadata": {
        "colab": {
          "base_uri": "https://localhost:8080/"
        },
        "id": "G5KSrJuHg4jt",
        "outputId": "8cd2708a-5126-454c-8a7c-4de9c3c8b73a"
      }
    },
    {
      "cell_type": "markdown",
      "source": [
        "This application defines a function called `factorial()` that calculates the factorial of a number. The factorial of a number is the product of all the positive integers less than or equal to that number. For example, the factorial of 5 is 120, because 120 = 1 * 2 * 3 * 4 * 5.\n",
        "\n",
        "The `factorial()` function uses recursion to calculate the factorial of a number. Recursion is a technique where a function calls itself to solve a problem. In this case, the `factorial()` function calls itself to calculate the factorial of the number minus 1. The base case of the recursion is when the number is 0, in which case the function simply returns 1.\n",
        "\n",
        "The `main()` function in the application calls the `factorial()` function with the number 5 as an argument. The `factorial()` function then calculates the factorial of 5 and returns the result, which is 120.\n",
        "\n",
        "To run this application, you can save the code above as a Python file and then run the file from the command line. For example, if you save the code as `factorial.py`, you can run the application by running the following command:\n",
        "\n",
        "```\n",
        "python factorial.py\n",
        "```\n",
        "\n",
        "This will start the application and print the factorial of 5, which is 120."
      ],
      "metadata": {
        "id": "CzbOvmtZg4j2"
      }
    },
    {
      "cell_type": "markdown",
      "source": [
        "# Nová sekce"
      ],
      "metadata": {
        "id": "1_uZcBILoFWu"
      }
    }
  ],
  "metadata": {
    "colab": {
      "provenance": [],
      "include_colab_link": true
    },
    "kernelspec": {
      "display_name": "Python 3",
      "name": "python3"
    }
  },
  "nbformat": 4,
  "nbformat_minor": 0
}